{
 "cells": [
  {
   "cell_type": "code",
   "execution_count": 1,
   "id": "becoming-compact",
   "metadata": {},
   "outputs": [
    {
     "name": "stdout",
     "output_type": "stream",
     "text": [
      "1.15.0\n",
      "True\n",
      "set time is coast:0.08323192596435547\n",
      "Population:5\n"
     ]
    }
   ],
   "source": [
    "from utils.detect import *"
   ]
  },
  {
   "cell_type": "code",
   "execution_count": 4,
   "id": "valued-bristol",
   "metadata": {},
   "outputs": [
    {
     "name": "stdout",
     "output_type": "stream",
     "text": [
      "set time is coast:0.08258318901062012\n",
      "Population:5\n"
     ]
    }
   ],
   "source": [
    "MODEL_PATH = r\"AI-Aquaculturing/ForEdgetpuModels/edgetpu_koifish_1000000/koifish_detect-100w.tflite\"\n",
    "img_path = r'AI-Aquaculturing/101.png'\n",
    "interpreter, output_details, img=set_interpreter(img_path, MODEL_PATH)\n",
    "\n",
    "boxes, scores = predict(output_details, interpreter)\n",
    "\n",
    "img_withBox, Population = get_predictBox(boxes, scores, img)\n",
    "cv2.imwrite(\"output.jpg\", img_withBox)\n",
    "print(\"Population:{}\".format(Population))"
   ]
  },
  {
   "cell_type": "code",
   "execution_count": 5,
   "id": "average-bryan",
   "metadata": {},
   "outputs": [
    {
     "name": "stdout",
     "output_type": "stream",
     "text": [
      "Cloning into 'object_prediction_use_tflite'...\n",
      "remote: Enumerating objects: 3, done.\u001b[K\n",
      "remote: Counting objects: 100% (3/3), done.\u001b[K\n",
      "remote: Total 3 (delta 0), reused 0 (delta 0), pack-reused 0\u001b[K\n",
      "Unpacking objects: 100% (3/3), done.\n"
     ]
    }
   ],
   "source": [
    "!git clone https://github.com/qazwsx08ghj/object_prediction_use_tflite.git"
   ]
  },
  {
   "cell_type": "code",
   "execution_count": null,
   "id": "owned-condition",
   "metadata": {},
   "outputs": [],
   "source": []
  }
 ],
 "metadata": {
  "kernelspec": {
   "display_name": "tfServer_py37",
   "language": "python",
   "name": "tfserver_py37"
  },
  "language_info": {
   "codemirror_mode": {
    "name": "ipython",
    "version": 3
   },
   "file_extension": ".py",
   "mimetype": "text/x-python",
   "name": "python",
   "nbconvert_exporter": "python",
   "pygments_lexer": "ipython3",
   "version": "3.7.10"
  }
 },
 "nbformat": 4,
 "nbformat_minor": 5
}
